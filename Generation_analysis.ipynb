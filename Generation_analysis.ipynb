{
  "nbformat": 4,
  "nbformat_minor": 0,
  "metadata": {
    "colab": {
      "provenance": [],
      "toc_visible": true
    },
    "kernelspec": {
      "name": "python3",
      "display_name": "Python 3"
    },
    "language_info": {
      "name": "python"
    }
  },
  "cells": [
    {
      "cell_type": "markdown",
      "source": [
        "# Inhibitors selection\n"
      ],
      "metadata": {
        "id": "iXKgcvEvEkmS"
      }
    },
    {
      "cell_type": "code",
      "execution_count": null,
      "metadata": {
        "id": "x4HalVB9FNTV"
      },
      "outputs": [],
      "source": [
        "# Import necessary libraries\n",
        "\n",
        "import pandas as pd\n",
        "import seaborn as sns\n",
        "import matplotlib.pyplot as plt\n",
        "import numpy as np\n",
        "from matplotlib.ticker import FormatStrFormatter\n",
        "\n",
        "import rdkit\n",
        "from rdkit import Chem\n",
        "from rdkit.Chem import AllChem\n",
        "from rdkit.Chem import rdFingerprintGenerator\n",
        "from rdkit.Chem import Draw\n",
        "from rdkit.DataStructs.cDataStructs import ConvertToNumpyArray\n",
        "from rdkit import RDLogger\n",
        "from rdkit.Chem import AllChem, QED, RDConfig, Lipinski, Descriptors\n",
        "\n",
        "from sklearn.svm import SVR\n",
        "from sklearn.ensemble import RandomForestRegressor\n",
        "from xgboost import XGBRegressor\n",
        "from sklearn.ensemble import HistGradientBoostingRegressor\n",
        "from sklearn.ensemble import StackingRegressor\n",
        "from sklearn.linear_model import LinearRegression\n",
        "from sklearn.model_selection import cross_val_score\n",
        "from sklearn.base import BaseEstimator, TransformerMixin\n",
        "\n",
        "from tqdm import tqdm\n",
        "\n",
        "import os, sys, pickle\n",
        "from rdkit.Chem import AllChem, QED, RDConfig, Lipinski, Descriptors\n",
        "sys.path.append(os.path.join(RDConfig.RDContribDir, 'SA_Score'))\n",
        "import sascorer\n",
        "from scipy import stats\n",
        "import scikit_posthocs as sp"
      ]
    },
    {
      "cell_type": "markdown",
      "source": [
        "# Functions"
      ],
      "metadata": {
        "id": "vzU2xujl9OcQ"
      }
    },
    {
      "cell_type": "code",
      "source": [
        "# Drug-like properties\n",
        "\n",
        "def check_qed(mol):\n",
        "  \"\"\" Calculates QED-score \"\"\"\n",
        "  return QED.qed(mol)\n",
        "\n",
        "def check_sascore(mol):\n",
        "  \"\"\" Calculates SAScore \"\"\"\n",
        "  return sascorer.calculateScore(mol)\n",
        "\n",
        "def check_lipinski_ro5(mol):\n",
        "  \"\"\" Checks Lipinski's rule of five for drig-like molecules \"\"\"\n",
        "  counter = 0\n",
        "  counter += 1 if Chem.Lipinski.NumHDonors(mol) <= 5 else 0\n",
        "  counter += 1 if Chem.Lipinski.NumHAcceptors(mol) <= 10 else 0\n",
        "  counter += 1 if Chem.Descriptors.MolWt(mol) <= 500 else 0\n",
        "  counter += 1 if Chem.Descriptors.MolLogP(mol) <= 5 else 0\n",
        "\n",
        "  return counter >= 3\n",
        "\n",
        "tox_df = pd.read_csv('/content/drive/MyDrive/models/tox_alerts.txt', sep='\\t')\n",
        "def check_toxicophore(mol):\n",
        "  \"\"\" Returns the number of toxicophore groups in a molecule \"\"\"\n",
        "  count = 0\n",
        "  for smarts in tox_df.SMARTS.to_list():\n",
        "    pattern = Chem.MolFromSmarts(smarts)\n",
        "    if mol.HasSubstructMatch(pattern)==True:\n",
        "      count += 1\n",
        "  return count"
      ],
      "metadata": {
        "id": "ucpa_b1qAs1p"
      },
      "execution_count": null,
      "outputs": []
    },
    {
      "cell_type": "code",
      "source": [
        "RDLogger.DisableLog('rdApp.*')\n",
        "\n",
        "def validate_smiles(smiles):\n",
        "    try:\n",
        "        mol = Chem.MolFromSmiles(smiles)\n",
        "        return mol is not None\n",
        "    except:\n",
        "        return False"
      ],
      "metadata": {
        "id": "a13Ozsq6GY0A"
      },
      "execution_count": null,
      "outputs": []
    },
    {
      "cell_type": "markdown",
      "source": [
        "# Generation by basic FREED++"
      ],
      "metadata": {
        "id": "i6O10iHAFKuG"
      }
    },
    {
      "cell_type": "code",
      "source": [
        "class pIC_predictor(BaseEstimator, TransformerMixin):\n",
        "    def __init__(self, predictor_path, radius=2, fpSize=2048):\n",
        "        self.predictor = joblib.load(predictor_path)\n",
        "        self.radius = radius\n",
        "        self.fpSize = fpSize\n",
        "\n",
        "    def fit(self, X, y=None):\n",
        "        return self\n",
        "\n",
        "    def transform(self, X):\n",
        "        X['fingerprints'] = X.Smiles.apply(self.get_fingerprint)\n",
        "        new_fingerprints = np.vstack(X['fingerprints'].values)\n",
        "        new_fingerprint_columns = [f'fingerprint_{i}' for i in range(new_fingerprints.shape[1])]\n",
        "        new_fingerprint_df = pd.DataFrame(new_fingerprints, columns=new_fingerprint_columns)\n",
        "        X = pd.concat([X, new_fingerprint_df], axis=1)\n",
        "        X = X.drop('fingerprints', axis=1)\n",
        "        X['pIC50'] = self.predictor.predict(X[new_fingerprint_columns])\n",
        "        columns_to_keep = ['Smiles', 'DockingScoreProperty', 'pIC50', 'QED', 'sascore', 'lipinski_ro5',\n",
        "                           'tox_groups', 'Epoch']\n",
        "        X = X[columns_to_keep]\n",
        "        return X\n",
        "\n",
        "    def get_fingerprint(self, smiles):\n",
        "        mfpgen = rdFingerprintGenerator.GetMorganGenerator(radius=self.radius, fpSize=self.fpSize)\n",
        "        mol = Chem.MolFromSmiles(smiles)\n",
        "        fp = mfpgen.GetFingerprintAsNumPy(mol)\n",
        "        return fp"
      ],
      "metadata": {
        "id": "YSzmhTvdH6-v"
      },
      "execution_count": null,
      "outputs": []
    },
    {
      "cell_type": "code",
      "source": [
        "def process_dataset(file_path, predictor_path):\n",
        "\n",
        "    # Data reading\n",
        "    df = pd.read_csv(file_path)\n",
        "\n",
        "    # Validation of Smiles\n",
        "    df['IsValidSmiles'] = df['Smiles'].apply(validate_smiles)\n",
        "    df = df[df['IsValidSmiles'] == True]\n",
        "    df.reset_index(drop=True, inplace=True)\n",
        "    df = df.drop('IsValidSmiles', axis=1)\n",
        "\n",
        "    # Removing duplicates\n",
        "    df.drop_duplicates(subset='Smiles', inplace=True)\n",
        "    df.reset_index(drop=True, inplace=True)\n",
        "\n",
        "    # Drug-like propeties\n",
        "    df['mol'] = df.Smiles.apply(Chem.MolFromSmiles)\n",
        "    df['QED'] = df.mol.apply(check_qed)\n",
        "    df['sascore'] = df.mol.apply(check_sascore)\n",
        "    df['lipinski_ro5'] = df.mol.apply(check_lipinski_ro5)\n",
        "    df['tox_groups'] = df.mol.apply(check_toxicophore)\n",
        "\n",
        "    # Bioactivity prediction\n",
        "    bioactivity_predictor = pIC_predictor(predictor_path)\n",
        "    df = bioactivity_predictor.transform(df)\n",
        "\n",
        "    return df"
      ],
      "metadata": {
        "id": "x8kItS2hK8Ee"
      },
      "execution_count": null,
      "outputs": []
    },
    {
      "cell_type": "code",
      "source": [
        "predictor_path = '/content/drive/MyDrive/статья/Models/stacking_regressor.joblib'"
      ],
      "metadata": {
        "id": "pj4A5KaZH_Bz"
      },
      "execution_count": null,
      "outputs": []
    },
    {
      "cell_type": "code",
      "source": [
        "datasets = [\n",
        "    '/content/drive/MyDrive/статья/Mols/Base_FREED++.csv',\n",
        "    '/content/drive/MyDrive/статья/Mols/Basic_Starting_fragment_A.csv',\n",
        "    '/content/drive/MyDrive/статья/Mols/Basic_Starting_fragment_B.csv'\n",
        "]\n",
        "\n",
        "results = []"
      ],
      "metadata": {
        "id": "bhihrd8dIL6w"
      },
      "execution_count": null,
      "outputs": []
    },
    {
      "cell_type": "code",
      "source": [
        "for dataset in tqdm(datasets, desc=\"Processing datasets\"):\n",
        "    result = process_dataset(dataset, predictor_path)\n",
        "    results.append(result)\n",
        "\n",
        "exp_1, exp_3, exp_5 = results"
      ],
      "metadata": {
        "colab": {
          "base_uri": "https://localhost:8080/"
        },
        "id": "19jLnR7vJ18N",
        "outputId": "37514c4a-7fdf-4cdf-854c-0bf57b521616"
      },
      "execution_count": null,
      "outputs": [
        {
          "output_type": "stream",
          "name": "stderr",
          "text": [
            "Processing datasets: 100%|██████████| 3/3 [05:55<00:00, 118.47s/it]\n"
          ]
        }
      ]
    },
    {
      "cell_type": "markdown",
      "source": [
        "# Generation with modified reward function"
      ],
      "metadata": {
        "id": "HzNE5mOmQCFj"
      }
    },
    {
      "cell_type": "code",
      "source": [
        "def process_dataset(file_path):\n",
        "    # Data reading\n",
        "    df = pd.read_csv(file_path)\n",
        "\n",
        "    # Validation of Smiles\n",
        "    df['IsValidSmiles'] = df['Smiles'].apply(validate_smiles)\n",
        "    df = df[df['IsValidSmiles'] == True]\n",
        "    df.reset_index(drop=True, inplace=True)\n",
        "    df = df.drop('IsValidSmiles', axis=1)\n",
        "\n",
        "    # Removing duplicates\n",
        "    df.drop_duplicates(subset='Smiles', inplace=True)\n",
        "    df.reset_index(drop=True, inplace=True)\n",
        "\n",
        "    # Drug-like properties\n",
        "    df['mol'] = df.Smiles.apply(Chem.MolFromSmiles)\n",
        "    df['QED'] = df.mol.apply(check_qed)\n",
        "    df['sascore'] = df.mol.apply(check_sascore)\n",
        "    df['lipinski_ro5'] = df.mol.apply(check_lipinski_ro5)\n",
        "    df['tox_groups'] = df.mol.apply(check_toxicophore)\n",
        "\n",
        "    # Bioactivity processing\n",
        "    df['pIC50Property'] = df['pIC50Property'].astype(float)\n",
        "    df = df.rename(columns={'pIC50Property': 'pIC50'})\n",
        "\n",
        "    # Remove 'mol' column as it's no longer needed\n",
        "    df = df.drop(['mol', 'DockingScoreReward', 'LogPReward', 'HeavyAtomCountReward',\n",
        "       'NumHAcceptorsReward', 'NumHDonorsReward', 'PAINSReward',\n",
        "       'SureChEMBLReward', 'GlaxoReward', 'pIC50Reward', 'Reward',\n",
        "       'LogPProperty', 'HeavyAtomCountProperty',\n",
        "       'NumHAcceptorsProperty', 'NumHDonorsProperty', 'PAINSProperty',\n",
        "       'SureChEMBLProperty', 'GlaxoProperty', 'Epoch'], axis=1)\n",
        "\n",
        "    return df"
      ],
      "metadata": {
        "id": "sluf5-7wQp0a"
      },
      "execution_count": null,
      "outputs": []
    },
    {
      "cell_type": "code",
      "source": [
        "# Main processing loop\n",
        "datasets = [\n",
        "    '/content/drive/MyDrive/статья/Mols/Our_approach_new.csv',\n",
        "    '/content/drive/MyDrive/статья/Mols/Our_starting_fragment_A_new.csv',\n",
        "    '/content/drive/MyDrive/статья/Mols/Our_starting_fragment_B_new.csv'\n",
        "]\n",
        "\n",
        "results = []"
      ],
      "metadata": {
        "id": "sUujU3upR1wW"
      },
      "execution_count": null,
      "outputs": []
    },
    {
      "cell_type": "code",
      "source": [
        "for dataset in tqdm(datasets, desc=\"Processing datasets\"):\n",
        "    result = process_dataset(dataset)\n",
        "    results.append(result)\n",
        "\n",
        "exp_2, exp_4, exp_6 = results"
      ],
      "metadata": {
        "colab": {
          "base_uri": "https://localhost:8080/"
        },
        "id": "bgBJFirOR3gV",
        "outputId": "b7bb7d69-a1c4-497a-ff61-fd7eed535376"
      },
      "execution_count": null,
      "outputs": [
        {
          "output_type": "stream",
          "name": "stderr",
          "text": [
            "Processing datasets: 100%|██████████| 3/3 [03:45<00:00, 75.10s/it]\n"
          ]
        }
      ]
    },
    {
      "cell_type": "markdown",
      "source": [
        "# Сomparison of generative approaches"
      ],
      "metadata": {
        "id": "rerRHNDGv5fu"
      }
    },
    {
      "cell_type": "code",
      "source": [
        "dataframes = [exp_1, exp_2, exp_3, exp_4, exp_5, exp_6]\n",
        "\n",
        "for df in dataframes:\n",
        "    df['DockingScoreProperty'] = df['DockingScoreProperty'].astype(float)"
      ],
      "metadata": {
        "id": "hq9rUXiJZUU3"
      },
      "execution_count": null,
      "outputs": []
    },
    {
      "cell_type": "code",
      "source": [
        "dataframes = [exp_1, exp_2, exp_3, exp_4, exp_5, exp_6]\n",
        "method_names = ['Exp1', 'Exp2', 'Exp3', 'Exp4', 'Exp5', 'Exp6']\n",
        "\n",
        "# Создаем сводную таблицу\n",
        "summary_data = []\n",
        "for i, df in enumerate(dataframes):\n",
        "    filtered_df = df[(df['sascore'] < 6) &\n",
        "                     (df['lipinski_ro5'] == True) &\n",
        "                     (df['QED'] > 0.67) &\n",
        "                     (df['tox_groups']==0)]\n",
        "\n",
        "    summary_data.append({\n",
        "        'Method': method_names[i],\n",
        "        'pIC50_mean': df['pIC50'].mean(),\n",
        "        'pIC50_std': df['pIC50'].std(),\n",
        "        'DS_mean': df['DockingScoreProperty'].mean(),\n",
        "        'DS_std': df['DockingScoreProperty'].std(),\n",
        "        'DS_min': df['DockingScoreProperty'].min(),\n",
        "        'pIC50_max': df['pIC50'].max(),\n",
        "        'ADMET_filtered': len(filtered_df),\n",
        "        'DS_below_7': len(filtered_df[filtered_df['DockingScoreProperty'] < -7]),\n",
        "        'pIC50_DS_filtered': len(filtered_df[(filtered_df['pIC50'] > 7.4) & (filtered_df['DockingScoreProperty'] < -7)])\n",
        "    })\n",
        "\n",
        "summary_df = pd.DataFrame(summary_data)\n",
        "summary_df['pIC50_mean_std'] = summary_df.apply(lambda row: f\"{row['pIC50_mean']:.2f} ± {row['pIC50_std']:.2f}\", axis=1)\n",
        "summary_df['DS_mean_std'] = summary_df.apply(lambda row: f\"{row['DS_mean']:.2f} ± {row['DS_std']:.2f}\", axis=1)\n",
        "\n",
        "summary_df = summary_df.drop(['pIC50_mean', 'pIC50_std', 'DS_mean', 'DS_std'], axis =1 )\n",
        "\n",
        "summary_df"
      ],
      "metadata": {
        "colab": {
          "base_uri": "https://localhost:8080/",
          "height": 237
        },
        "id": "CZmLxuBVY64V",
        "outputId": "71f3720a-8405-48d7-8806-264c12a78d4f"
      },
      "execution_count": null,
      "outputs": [
        {
          "output_type": "execute_result",
          "data": {
            "text/plain": [
              "  Method  DS_min  pIC50_max  ADMET_filtered  DS_below_7  pIC50_DS_filtered  \\\n",
              "0   Exp1   -10.0   7.572398            1023         694                  3   \n",
              "1   Exp2    -9.6   7.843325            3315        2217                 17   \n",
              "2   Exp3    -9.4   8.643065            1173         852                 65   \n",
              "3   Exp4    -9.9   8.722200             428         247                 43   \n",
              "4   Exp5    -9.4   8.476399              53          24                  1   \n",
              "5   Exp6    -9.5   8.604140              31          23                 12   \n",
              "\n",
              "  pIC50_mean_std   DS_mean_std  \n",
              "0    6.05 ± 0.44  -7.40 ± 1.94  \n",
              "1    6.53 ± 0.40  -7.19 ± 1.81  \n",
              "2    6.80 ± 0.44  -6.92 ± 2.85  \n",
              "3    7.17 ± 0.45  -6.99 ± 2.90  \n",
              "4    7.03 ± 0.32  -6.93 ± 3.73  \n",
              "5    7.20 ± 0.34  -7.17 ± 2.81  "
            ],
            "text/html": [
              "\n",
              "  <div id=\"df-3be518e2-331a-4fbf-a620-cbf982cb8b4e\" class=\"colab-df-container\">\n",
              "    <div>\n",
              "<style scoped>\n",
              "    .dataframe tbody tr th:only-of-type {\n",
              "        vertical-align: middle;\n",
              "    }\n",
              "\n",
              "    .dataframe tbody tr th {\n",
              "        vertical-align: top;\n",
              "    }\n",
              "\n",
              "    .dataframe thead th {\n",
              "        text-align: right;\n",
              "    }\n",
              "</style>\n",
              "<table border=\"1\" class=\"dataframe\">\n",
              "  <thead>\n",
              "    <tr style=\"text-align: right;\">\n",
              "      <th></th>\n",
              "      <th>Method</th>\n",
              "      <th>DS_min</th>\n",
              "      <th>pIC50_max</th>\n",
              "      <th>ADMET_filtered</th>\n",
              "      <th>DS_below_7</th>\n",
              "      <th>pIC50_DS_filtered</th>\n",
              "      <th>pIC50_mean_std</th>\n",
              "      <th>DS_mean_std</th>\n",
              "    </tr>\n",
              "  </thead>\n",
              "  <tbody>\n",
              "    <tr>\n",
              "      <th>0</th>\n",
              "      <td>Exp1</td>\n",
              "      <td>-10.0</td>\n",
              "      <td>7.572398</td>\n",
              "      <td>1023</td>\n",
              "      <td>694</td>\n",
              "      <td>3</td>\n",
              "      <td>6.05 ± 0.44</td>\n",
              "      <td>-7.40 ± 1.94</td>\n",
              "    </tr>\n",
              "    <tr>\n",
              "      <th>1</th>\n",
              "      <td>Exp2</td>\n",
              "      <td>-9.6</td>\n",
              "      <td>7.843325</td>\n",
              "      <td>3315</td>\n",
              "      <td>2217</td>\n",
              "      <td>17</td>\n",
              "      <td>6.53 ± 0.40</td>\n",
              "      <td>-7.19 ± 1.81</td>\n",
              "    </tr>\n",
              "    <tr>\n",
              "      <th>2</th>\n",
              "      <td>Exp3</td>\n",
              "      <td>-9.4</td>\n",
              "      <td>8.643065</td>\n",
              "      <td>1173</td>\n",
              "      <td>852</td>\n",
              "      <td>65</td>\n",
              "      <td>6.80 ± 0.44</td>\n",
              "      <td>-6.92 ± 2.85</td>\n",
              "    </tr>\n",
              "    <tr>\n",
              "      <th>3</th>\n",
              "      <td>Exp4</td>\n",
              "      <td>-9.9</td>\n",
              "      <td>8.722200</td>\n",
              "      <td>428</td>\n",
              "      <td>247</td>\n",
              "      <td>43</td>\n",
              "      <td>7.17 ± 0.45</td>\n",
              "      <td>-6.99 ± 2.90</td>\n",
              "    </tr>\n",
              "    <tr>\n",
              "      <th>4</th>\n",
              "      <td>Exp5</td>\n",
              "      <td>-9.4</td>\n",
              "      <td>8.476399</td>\n",
              "      <td>53</td>\n",
              "      <td>24</td>\n",
              "      <td>1</td>\n",
              "      <td>7.03 ± 0.32</td>\n",
              "      <td>-6.93 ± 3.73</td>\n",
              "    </tr>\n",
              "    <tr>\n",
              "      <th>5</th>\n",
              "      <td>Exp6</td>\n",
              "      <td>-9.5</td>\n",
              "      <td>8.604140</td>\n",
              "      <td>31</td>\n",
              "      <td>23</td>\n",
              "      <td>12</td>\n",
              "      <td>7.20 ± 0.34</td>\n",
              "      <td>-7.17 ± 2.81</td>\n",
              "    </tr>\n",
              "  </tbody>\n",
              "</table>\n",
              "</div>\n",
              "    <div class=\"colab-df-buttons\">\n",
              "\n",
              "  <div class=\"colab-df-container\">\n",
              "    <button class=\"colab-df-convert\" onclick=\"convertToInteractive('df-3be518e2-331a-4fbf-a620-cbf982cb8b4e')\"\n",
              "            title=\"Convert this dataframe to an interactive table.\"\n",
              "            style=\"display:none;\">\n",
              "\n",
              "  <svg xmlns=\"http://www.w3.org/2000/svg\" height=\"24px\" viewBox=\"0 -960 960 960\">\n",
              "    <path d=\"M120-120v-720h720v720H120Zm60-500h600v-160H180v160Zm220 220h160v-160H400v160Zm0 220h160v-160H400v160ZM180-400h160v-160H180v160Zm440 0h160v-160H620v160ZM180-180h160v-160H180v160Zm440 0h160v-160H620v160Z\"/>\n",
              "  </svg>\n",
              "    </button>\n",
              "\n",
              "  <style>\n",
              "    .colab-df-container {\n",
              "      display:flex;\n",
              "      gap: 12px;\n",
              "    }\n",
              "\n",
              "    .colab-df-convert {\n",
              "      background-color: #E8F0FE;\n",
              "      border: none;\n",
              "      border-radius: 50%;\n",
              "      cursor: pointer;\n",
              "      display: none;\n",
              "      fill: #1967D2;\n",
              "      height: 32px;\n",
              "      padding: 0 0 0 0;\n",
              "      width: 32px;\n",
              "    }\n",
              "\n",
              "    .colab-df-convert:hover {\n",
              "      background-color: #E2EBFA;\n",
              "      box-shadow: 0px 1px 2px rgba(60, 64, 67, 0.3), 0px 1px 3px 1px rgba(60, 64, 67, 0.15);\n",
              "      fill: #174EA6;\n",
              "    }\n",
              "\n",
              "    .colab-df-buttons div {\n",
              "      margin-bottom: 4px;\n",
              "    }\n",
              "\n",
              "    [theme=dark] .colab-df-convert {\n",
              "      background-color: #3B4455;\n",
              "      fill: #D2E3FC;\n",
              "    }\n",
              "\n",
              "    [theme=dark] .colab-df-convert:hover {\n",
              "      background-color: #434B5C;\n",
              "      box-shadow: 0px 1px 3px 1px rgba(0, 0, 0, 0.15);\n",
              "      filter: drop-shadow(0px 1px 2px rgba(0, 0, 0, 0.3));\n",
              "      fill: #FFFFFF;\n",
              "    }\n",
              "  </style>\n",
              "\n",
              "    <script>\n",
              "      const buttonEl =\n",
              "        document.querySelector('#df-3be518e2-331a-4fbf-a620-cbf982cb8b4e button.colab-df-convert');\n",
              "      buttonEl.style.display =\n",
              "        google.colab.kernel.accessAllowed ? 'block' : 'none';\n",
              "\n",
              "      async function convertToInteractive(key) {\n",
              "        const element = document.querySelector('#df-3be518e2-331a-4fbf-a620-cbf982cb8b4e');\n",
              "        const dataTable =\n",
              "          await google.colab.kernel.invokeFunction('convertToInteractive',\n",
              "                                                    [key], {});\n",
              "        if (!dataTable) return;\n",
              "\n",
              "        const docLinkHtml = 'Like what you see? Visit the ' +\n",
              "          '<a target=\"_blank\" href=https://colab.research.google.com/notebooks/data_table.ipynb>data table notebook</a>'\n",
              "          + ' to learn more about interactive tables.';\n",
              "        element.innerHTML = '';\n",
              "        dataTable['output_type'] = 'display_data';\n",
              "        await google.colab.output.renderOutput(dataTable, element);\n",
              "        const docLink = document.createElement('div');\n",
              "        docLink.innerHTML = docLinkHtml;\n",
              "        element.appendChild(docLink);\n",
              "      }\n",
              "    </script>\n",
              "  </div>\n",
              "\n",
              "\n",
              "<div id=\"df-6fa5a66c-75e7-4449-946a-39e310d3d632\">\n",
              "  <button class=\"colab-df-quickchart\" onclick=\"quickchart('df-6fa5a66c-75e7-4449-946a-39e310d3d632')\"\n",
              "            title=\"Suggest charts\"\n",
              "            style=\"display:none;\">\n",
              "\n",
              "<svg xmlns=\"http://www.w3.org/2000/svg\" height=\"24px\"viewBox=\"0 0 24 24\"\n",
              "     width=\"24px\">\n",
              "    <g>\n",
              "        <path d=\"M19 3H5c-1.1 0-2 .9-2 2v14c0 1.1.9 2 2 2h14c1.1 0 2-.9 2-2V5c0-1.1-.9-2-2-2zM9 17H7v-7h2v7zm4 0h-2V7h2v10zm4 0h-2v-4h2v4z\"/>\n",
              "    </g>\n",
              "</svg>\n",
              "  </button>\n",
              "\n",
              "<style>\n",
              "  .colab-df-quickchart {\n",
              "      --bg-color: #E8F0FE;\n",
              "      --fill-color: #1967D2;\n",
              "      --hover-bg-color: #E2EBFA;\n",
              "      --hover-fill-color: #174EA6;\n",
              "      --disabled-fill-color: #AAA;\n",
              "      --disabled-bg-color: #DDD;\n",
              "  }\n",
              "\n",
              "  [theme=dark] .colab-df-quickchart {\n",
              "      --bg-color: #3B4455;\n",
              "      --fill-color: #D2E3FC;\n",
              "      --hover-bg-color: #434B5C;\n",
              "      --hover-fill-color: #FFFFFF;\n",
              "      --disabled-bg-color: #3B4455;\n",
              "      --disabled-fill-color: #666;\n",
              "  }\n",
              "\n",
              "  .colab-df-quickchart {\n",
              "    background-color: var(--bg-color);\n",
              "    border: none;\n",
              "    border-radius: 50%;\n",
              "    cursor: pointer;\n",
              "    display: none;\n",
              "    fill: var(--fill-color);\n",
              "    height: 32px;\n",
              "    padding: 0;\n",
              "    width: 32px;\n",
              "  }\n",
              "\n",
              "  .colab-df-quickchart:hover {\n",
              "    background-color: var(--hover-bg-color);\n",
              "    box-shadow: 0 1px 2px rgba(60, 64, 67, 0.3), 0 1px 3px 1px rgba(60, 64, 67, 0.15);\n",
              "    fill: var(--button-hover-fill-color);\n",
              "  }\n",
              "\n",
              "  .colab-df-quickchart-complete:disabled,\n",
              "  .colab-df-quickchart-complete:disabled:hover {\n",
              "    background-color: var(--disabled-bg-color);\n",
              "    fill: var(--disabled-fill-color);\n",
              "    box-shadow: none;\n",
              "  }\n",
              "\n",
              "  .colab-df-spinner {\n",
              "    border: 2px solid var(--fill-color);\n",
              "    border-color: transparent;\n",
              "    border-bottom-color: var(--fill-color);\n",
              "    animation:\n",
              "      spin 1s steps(1) infinite;\n",
              "  }\n",
              "\n",
              "  @keyframes spin {\n",
              "    0% {\n",
              "      border-color: transparent;\n",
              "      border-bottom-color: var(--fill-color);\n",
              "      border-left-color: var(--fill-color);\n",
              "    }\n",
              "    20% {\n",
              "      border-color: transparent;\n",
              "      border-left-color: var(--fill-color);\n",
              "      border-top-color: var(--fill-color);\n",
              "    }\n",
              "    30% {\n",
              "      border-color: transparent;\n",
              "      border-left-color: var(--fill-color);\n",
              "      border-top-color: var(--fill-color);\n",
              "      border-right-color: var(--fill-color);\n",
              "    }\n",
              "    40% {\n",
              "      border-color: transparent;\n",
              "      border-right-color: var(--fill-color);\n",
              "      border-top-color: var(--fill-color);\n",
              "    }\n",
              "    60% {\n",
              "      border-color: transparent;\n",
              "      border-right-color: var(--fill-color);\n",
              "    }\n",
              "    80% {\n",
              "      border-color: transparent;\n",
              "      border-right-color: var(--fill-color);\n",
              "      border-bottom-color: var(--fill-color);\n",
              "    }\n",
              "    90% {\n",
              "      border-color: transparent;\n",
              "      border-bottom-color: var(--fill-color);\n",
              "    }\n",
              "  }\n",
              "</style>\n",
              "\n",
              "  <script>\n",
              "    async function quickchart(key) {\n",
              "      const quickchartButtonEl =\n",
              "        document.querySelector('#' + key + ' button');\n",
              "      quickchartButtonEl.disabled = true;  // To prevent multiple clicks.\n",
              "      quickchartButtonEl.classList.add('colab-df-spinner');\n",
              "      try {\n",
              "        const charts = await google.colab.kernel.invokeFunction(\n",
              "            'suggestCharts', [key], {});\n",
              "      } catch (error) {\n",
              "        console.error('Error during call to suggestCharts:', error);\n",
              "      }\n",
              "      quickchartButtonEl.classList.remove('colab-df-spinner');\n",
              "      quickchartButtonEl.classList.add('colab-df-quickchart-complete');\n",
              "    }\n",
              "    (() => {\n",
              "      let quickchartButtonEl =\n",
              "        document.querySelector('#df-6fa5a66c-75e7-4449-946a-39e310d3d632 button');\n",
              "      quickchartButtonEl.style.display =\n",
              "        google.colab.kernel.accessAllowed ? 'block' : 'none';\n",
              "    })();\n",
              "  </script>\n",
              "</div>\n",
              "    </div>\n",
              "  </div>\n"
            ],
            "application/vnd.google.colaboratory.intrinsic+json": {
              "type": "dataframe",
              "variable_name": "summary_df",
              "summary": "{\n  \"name\": \"summary_df\",\n  \"rows\": 6,\n  \"fields\": [\n    {\n      \"column\": \"Method\",\n      \"properties\": {\n        \"dtype\": \"string\",\n        \"num_unique_values\": 6,\n        \"samples\": [\n          \"Exp1\",\n          \"Exp2\",\n          \"Exp6\"\n        ],\n        \"semantic_type\": \"\",\n        \"description\": \"\"\n      }\n    },\n    {\n      \"column\": \"DS_min\",\n      \"properties\": {\n        \"dtype\": \"number\",\n        \"std\": 0.2581988897471611,\n        \"min\": -10.0,\n        \"max\": -9.4,\n        \"num_unique_values\": 5,\n        \"samples\": [\n          -9.6,\n          -9.5,\n          -9.4\n        ],\n        \"semantic_type\": \"\",\n        \"description\": \"\"\n      }\n    },\n    {\n      \"column\": \"pIC50_max\",\n      \"properties\": {\n        \"dtype\": \"number\",\n        \"std\": 0.48101773963628325,\n        \"min\": 7.572398039198771,\n        \"max\": 8.722199808890363,\n        \"num_unique_values\": 6,\n        \"samples\": [\n          7.572398039198771,\n          7.843324613986899,\n          8.60414028409457\n        ],\n        \"semantic_type\": \"\",\n        \"description\": \"\"\n      }\n    },\n    {\n      \"column\": \"ADMET_filtered\",\n      \"properties\": {\n        \"dtype\": \"number\",\n        \"std\": 1229,\n        \"min\": 31,\n        \"max\": 3315,\n        \"num_unique_values\": 6,\n        \"samples\": [\n          1023,\n          3315,\n          31\n        ],\n        \"semantic_type\": \"\",\n        \"description\": \"\"\n      }\n    },\n    {\n      \"column\": \"DS_below_7\",\n      \"properties\": {\n        \"dtype\": \"number\",\n        \"std\": 829,\n        \"min\": 23,\n        \"max\": 2217,\n        \"num_unique_values\": 6,\n        \"samples\": [\n          694,\n          2217,\n          23\n        ],\n        \"semantic_type\": \"\",\n        \"description\": \"\"\n      }\n    },\n    {\n      \"column\": \"pIC50_DS_filtered\",\n      \"properties\": {\n        \"dtype\": \"number\",\n        \"std\": 25,\n        \"min\": 1,\n        \"max\": 65,\n        \"num_unique_values\": 6,\n        \"samples\": [\n          3,\n          17,\n          12\n        ],\n        \"semantic_type\": \"\",\n        \"description\": \"\"\n      }\n    },\n    {\n      \"column\": \"pIC50_mean_std\",\n      \"properties\": {\n        \"dtype\": \"string\",\n        \"num_unique_values\": 6,\n        \"samples\": [\n          \"6.05 \\u00b1 0.44\",\n          \"6.53 \\u00b1 0.40\",\n          \"7.20 \\u00b1 0.34\"\n        ],\n        \"semantic_type\": \"\",\n        \"description\": \"\"\n      }\n    },\n    {\n      \"column\": \"DS_mean_std\",\n      \"properties\": {\n        \"dtype\": \"string\",\n        \"num_unique_values\": 6,\n        \"samples\": [\n          \"-7.40 \\u00b1 1.94\",\n          \"-7.19 \\u00b1 1.81\",\n          \"-7.17 \\u00b1 2.81\"\n        ],\n        \"semantic_type\": \"\",\n        \"description\": \"\"\n      }\n    }\n  ]\n}"
            }
          },
          "metadata": {},
          "execution_count": 81
        }
      ]
    },
    {
      "cell_type": "markdown",
      "source": [
        "## Statistical tests"
      ],
      "metadata": {
        "id": "IxpL0iO0CjzM"
      }
    },
    {
      "cell_type": "code",
      "source": [
        "exp_1 = pd.read_csv('/content/drive/MyDrive/статья/Mols/exp_1_ADMET.csv')\n",
        "exp_3 = pd.read_csv('/content/drive/MyDrive/статья/Mols/exp_3_ADMET.csv')\n",
        "exp_5 = pd.read_csv('/content/drive/MyDrive/статья/Mols/exp_6_ADMET.csv')"
      ],
      "metadata": {
        "id": "XS7yh-mEGrCt"
      },
      "execution_count": null,
      "outputs": []
    },
    {
      "cell_type": "code",
      "source": [
        "exp_2 = pd.read_csv('/content/drive/MyDrive/статья/Mols/exp_7_ADMET.csv')\n",
        "exp_4 = pd.read_csv('/content/drive/MyDrive/статья/Mols/exp_8_ADMET.csv')\n",
        "exp_6 = pd.read_csv('/content/drive/MyDrive/статья/Mols/exp_5_ADMET.csv')"
      ],
      "metadata": {
        "id": "j6eSYKCVGrCu"
      },
      "execution_count": null,
      "outputs": []
    },
    {
      "cell_type": "code",
      "source": [
        "dataframes = [exp_1, exp_2, exp_3, exp_4, exp_5, exp_6]"
      ],
      "metadata": {
        "id": "ncnC_zYa0pnm"
      },
      "execution_count": null,
      "outputs": []
    },
    {
      "cell_type": "code",
      "source": [
        "for i, df in enumerate(dataframes):\n",
        "  print(i+1, len(df))"
      ],
      "metadata": {
        "colab": {
          "base_uri": "https://localhost:8080/"
        },
        "id": "_oqlaS4n7Urz",
        "outputId": "1cabe10c-b2f2-4a12-f7b0-5d9de58ccc37"
      },
      "execution_count": null,
      "outputs": [
        {
          "output_type": "stream",
          "name": "stdout",
          "text": [
            "1 7257\n",
            "2 7603\n",
            "3 4572\n",
            "4 5950\n",
            "5 5860\n",
            "6 6760\n"
          ]
        }
      ]
    },
    {
      "cell_type": "code",
      "source": [
        "pIC50_data = [exp_1['pIC50'], exp_2['pIC50'], exp_3['pIC50'], exp_4['pIC50'], exp_5['pIC50'], exp_6['pIC50']]"
      ],
      "metadata": {
        "id": "GBIz3cQJHjgc"
      },
      "execution_count": null,
      "outputs": []
    },
    {
      "cell_type": "code",
      "source": [
        "def check_normality(data):\n",
        "    _, p_value = stats.normaltest(data)\n",
        "    return p_value"
      ],
      "metadata": {
        "id": "zeRIVtklM2I8"
      },
      "execution_count": null,
      "outputs": []
    },
    {
      "cell_type": "code",
      "source": [
        "results = [check_normality(group) for group in pIC50_data]\n",
        "print(results)"
      ],
      "metadata": {
        "colab": {
          "base_uri": "https://localhost:8080/"
        },
        "id": "MKuYF0m-M3RX",
        "outputId": "8c109d22-1f8d-46b4-e133-aa48b9f6a123"
      },
      "execution_count": null,
      "outputs": [
        {
          "output_type": "stream",
          "name": "stdout",
          "text": [
            "[4.7670787316956654e-11, 1.5903794104257915e-42, 0.2528177765717214, 2.82606177685031e-21, 7.700334716737369e-07, 1.3782011977600751e-05]\n"
          ]
        }
      ]
    },
    {
      "cell_type": "code",
      "source": [
        "def kruskal_wallis_test(df1, df2, column='pIC50'):\n",
        "    statistic, p_value = stats.kruskal(df1[column], df2[column])\n",
        "    return statistic, p_value"
      ],
      "metadata": {
        "id": "1g4H6dlxHjeU"
      },
      "execution_count": null,
      "outputs": []
    },
    {
      "cell_type": "code",
      "source": [
        "pairs = [(exp_1, exp_2), (exp_3, exp_4), (exp_5, exp_6)]\n",
        "pair_names = ['Basic', 'Starting fragment A', 'Starting fragment B']\n",
        "\n",
        "for (df_a, df_b), pair_name in zip(pairs, pair_names):\n",
        "    statistic, p_value = kruskal_wallis_test(df_a, df_b)\n",
        "    print(f\"The results of the Kraskell-Wallis test for {pair_name}:\")\n",
        "    print(f\"Statistics: {statistic}\")\n",
        "    print(f\"p-value: {p_value}\")\n",
        "    print(\"---\")"
      ],
      "metadata": {
        "colab": {
          "base_uri": "https://localhost:8080/"
        },
        "id": "v3QKAr36HlrJ",
        "outputId": "affd457a-6c21-493d-c51b-1b584442f516"
      },
      "execution_count": null,
      "outputs": [
        {
          "output_type": "stream",
          "name": "stdout",
          "text": [
            "The results of the Kraskell-Wallis test for Basic:\n",
            "Statistics: 3673.9819698178776\n",
            "p-value: 0.0\n",
            "---\n",
            "The results of the Kraskell-Wallis test for Starting fragment A:\n",
            "Statistics: 1561.7580127532801\n",
            "p-value: 0.0\n",
            "---\n",
            "The results of the Kraskell-Wallis test for Starting fragment B:\n",
            "Statistics: 738.1687877838255\n",
            "p-value: 1.4995475366257754e-162\n",
            "---\n"
          ]
        }
      ]
    },
    {
      "cell_type": "code",
      "source": [
        "def mann_whitney_test(df1, df2, column='pIC50'):\n",
        "    statistic, p_value = stats.mannwhitneyu(df1[column].dropna(), df2[column].dropna(), alternative='two-sided')\n",
        "    return statistic, p_value"
      ],
      "metadata": {
        "id": "xfDqac40Jfmz"
      },
      "execution_count": null,
      "outputs": []
    },
    {
      "cell_type": "code",
      "source": [
        "pairs = [(exp_1, exp_2), (exp_3, exp_4), (exp_5, exp_6)]\n",
        "pair_names = ['Basic', 'Starting fragment A', 'Starting fragment B']\n",
        "\n",
        "for (df_a, df_b), pair_name in zip(pairs, pair_names):\n",
        "    statistic, p_value = mann_whitney_test(df_a, df_b)\n",
        "    print(f\"Mann-Whitney test results for {pair_name}:\")\n",
        "    print(f\"Statistics: {statistic}\")\n",
        "    print(f\"p-value: {p_value}\")\n",
        "    print(\"---\")"
      ],
      "metadata": {
        "colab": {
          "base_uri": "https://localhost:8080/"
        },
        "id": "Ce2nu8txJgmC",
        "outputId": "5b140609-3d6a-42df-bb5d-1e764452eb04"
      },
      "execution_count": null,
      "outputs": [
        {
          "output_type": "stream",
          "name": "stdout",
          "text": [
            "Mann-Whitney test results for Basic:\n",
            "Statistics: 11743189.0\n",
            "p-value: 0.0\n",
            "---\n",
            "Mann-Whitney test results for Starting fragment A:\n",
            "Statistics: 7497937.5\n",
            "p-value: 0.0\n",
            "---\n",
            "Mann-Whitney test results for Starting fragment B:\n",
            "Statistics: 14261101.5\n",
            "p-value: 1.4996474745800747e-162\n",
            "---\n"
          ]
        }
      ]
    },
    {
      "cell_type": "code",
      "source": [
        "def set_min_max_ticks(ax):\n",
        "    ymin, ymax = ax.get_ylim()\n",
        "    ax.set_yticks([ymin, ymax])\n",
        "    ax.yaxis.set_major_formatter(FormatStrFormatter('%.2f'))"
      ],
      "metadata": {
        "id": "D48AHKPtdy6R"
      },
      "execution_count": null,
      "outputs": []
    },
    {
      "cell_type": "code",
      "source": [
        "colors = ['#ff9999', '#66b3ff', '#99ff99']\n",
        "\n",
        "# Создаем фигуру с тремя графиками\n",
        "fig, axes = plt.subplots(1, 3, figsize=(15, 5))\n",
        "\n",
        "# Первый график: сравнение 'Base model' и 'pIC50 reward'\n",
        "sns.kdeplot(exp_1['pIC50'], fill=True, color=\"blue\", alpha=0.2, label='Basic FREED++', ax=axes[0])\n",
        "sns.kdeplot(exp_2['pIC50'], fill=True, color=\"green\", alpha=0.2, label='Our approach', ax=axes[0])\n",
        "axes[0].set_xlabel('pIC50')\n",
        "axes[0].set_ylabel('Density')\n",
        "axes[0].set_xlim(4.6, 9.2)\n",
        "axes[0].legend()\n",
        "set_min_max_ticks(axes[0])\n",
        "axes[0].text(0, 1.1, 'A', transform=axes[0].transAxes, fontsize=14, fontweight='bold', va='top', ha='left')\n",
        "axes[0].set_title('Without starting fragments', fontsize=12)\n",
        "\n",
        "# Второй график: сравнение 'Starting fragment 1' и 'Starting fragment 1'\n",
        "sns.kdeplot(exp_3['pIC50'], fill=True, color=\"blue\", alpha=0.2, label='Basic FREED++', ax=axes[1])\n",
        "sns.kdeplot(exp_4['pIC50'], fill=True, color=\"green\", alpha=0.2, label='Our approach', ax=axes[1])\n",
        "axes[1].set_xlabel('pIC50')\n",
        "axes[1].set_ylabel('Density')\n",
        "axes[1].set_xlim(4.8, 9.2)\n",
        "axes[1].legend()\n",
        "set_min_max_ticks(axes[1])\n",
        "axes[1].text(0, 1.1, 'B', transform=axes[1].transAxes, fontsize=14, fontweight='bold', va='top', ha='left')\n",
        "axes[1].set_title('Starting fragment A', fontsize=12)\n",
        "\n",
        "# Третий график: сравнение 'Starting fragment 2' и 'Starting fragment 2'\n",
        "sns.kdeplot(exp_5['pIC50'], fill=True, color=\"blue\", alpha=0.2, label='Basic FREED++', ax=axes[2])\n",
        "sns.kdeplot(exp_6['pIC50'], fill=True, color=\"green\", alpha=0.2, label='Our approach', ax=axes[2])\n",
        "axes[2].set_xlabel('pIC50')\n",
        "axes[2].set_ylabel('Density')\n",
        "axes[2].set_xlim(4.8, 9.2)\n",
        "axes[2].legend()\n",
        "set_min_max_ticks(axes[2])\n",
        "axes[2].text(0, 1.1, 'C', transform=axes[2].transAxes, fontsize=14, fontweight='bold', va='top', ha='left')\n",
        "axes[2].set_title('Starting fragment B', fontsize=12)\n",
        "\n",
        "# Настройка расстояний между графиками\n",
        "plt.tight_layout()\n",
        "\n",
        "plt.savefig('Figure_4.jpg', format='jpg', dpi=1000, bbox_inches='tight')\n",
        "plt.savefig('Figure_4.pdf', format='pdf', dpi=1000, bbox_inches='tight')\n",
        "\n",
        "\n",
        "# Показать все графики на одной фигуре\n",
        "plt.show()"
      ],
      "metadata": {
        "colab": {
          "base_uri": "https://localhost:8080/",
          "height": 439
        },
        "id": "zD468UK8K1lL",
        "outputId": "2d60c913-3485-437a-b518-b92223fd3047"
      },
      "execution_count": null,
      "outputs": [
        {
          "output_type": "display_data",
          "data": {
            "text/plain": [
              "<Figure size 1500x500 with 3 Axes>"
            ],
            "image/png": "[encoded data removed]"
          },
          "metadata": {}
        }
      ]
    },
    {
      "cell_type": "markdown",
      "source": [
        "# Final set of good molecules"
      ],
      "metadata": {
        "id": "aK6R--gIwWl_"
      }
    },
    {
      "cell_type": "code",
      "source": [
        "# Function for selecting molecules according to Evaluation metrics\n",
        "def filter_dataframe(df):\n",
        "    return df[(df['sascore'] < 6) &\n",
        "              (df['lipinski_ro5'] == True) &\n",
        "              (df['QED'] > 0.67) &\n",
        "              (df['tox_groups'] == 0) &\n",
        "              (df['pIC50'] > 7.4) &\n",
        "              (df['DockingScoreProperty'] < -7)]"
      ],
      "metadata": {
        "id": "0-cA6cOEwpKG"
      },
      "execution_count": null,
      "outputs": []
    },
    {
      "cell_type": "code",
      "source": [
        "good_mols_base = pd.DataFrame()\n",
        "good_mols_ic50 = pd.DataFrame()"
      ],
      "metadata": {
        "id": "yleQ1_o_eBL6"
      },
      "execution_count": null,
      "outputs": []
    },
    {
      "cell_type": "code",
      "source": [
        "for df in [exp_1, exp_3, exp_5]:\n",
        "    filtered_df = filter_dataframe(df)\n",
        "    good_mols_base = pd.concat([good_mols_base, filtered_df], ignore_index=True)\n",
        "\n",
        "for df in [exp_2, exp_4, exp_6]:\n",
        "    filtered_df = filter_dataframe(df)\n",
        "    good_mols_ic50 = pd.concat([good_mols_ic50, filtered_df], ignore_index=True)"
      ],
      "metadata": {
        "id": "SR5BmGM5eBL6"
      },
      "execution_count": null,
      "outputs": []
    },
    {
      "cell_type": "code",
      "source": [
        "print('The number of promising molecules obtained using the basic FREED++:', len(good_mols_base))"
      ],
      "metadata": {
        "colab": {
          "base_uri": "https://localhost:8080/"
        },
        "outputId": "0f937161-84b6-48b8-aae3-3978258029e7",
        "id": "R8ETHKXBeBL7"
      },
      "execution_count": null,
      "outputs": [
        {
          "output_type": "stream",
          "name": "stdout",
          "text": [
            "The number of promising molecules obtained using the basic FREED++: 69\n"
          ]
        }
      ]
    },
    {
      "cell_type": "code",
      "source": [
        "print('The number of promising molecules obtained using our approach:', len(good_mols_ic50))"
      ],
      "metadata": {
        "colab": {
          "base_uri": "https://localhost:8080/"
        },
        "outputId": "ad634b6b-97df-4d9d-bfec-4ee02d4a33fa",
        "id": "4LdEtd1SeBL7"
      },
      "execution_count": null,
      "outputs": [
        {
          "output_type": "stream",
          "name": "stdout",
          "text": [
            "The number of promising molecules obtained using our approach: 72\n"
          ]
        }
      ]
    },
    {
      "cell_type": "code",
      "source": [
        "good_mols = pd.concat([good_mols_ic50, good_mols_base], ignore_index=True)"
      ],
      "metadata": {
        "id": "2-rgPYGTeBL8"
      },
      "execution_count": null,
      "outputs": []
    },
    {
      "cell_type": "code",
      "source": [
        "good_mols.drop_duplicates(subset='Smiles', inplace=True)"
      ],
      "metadata": {
        "id": "lyOuh__xeBL8"
      },
      "execution_count": null,
      "outputs": []
    },
    {
      "cell_type": "code",
      "source": [
        "print('Total number of selected molecules:', len(good_mols))"
      ],
      "metadata": {
        "colab": {
          "base_uri": "https://localhost:8080/"
        },
        "id": "fuRwSVJQxUXD",
        "outputId": "0c017678-b90d-4ef3-8d18-8c1ac943c055"
      },
      "execution_count": null,
      "outputs": [
        {
          "output_type": "stream",
          "name": "stdout",
          "text": [
            "Total number of selected molecules: 139\n"
          ]
        }
      ]
    }
  ]
}