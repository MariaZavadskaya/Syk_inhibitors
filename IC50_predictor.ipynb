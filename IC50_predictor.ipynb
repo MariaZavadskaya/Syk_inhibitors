{
  "cells": [
    {
      "cell_type": "markdown",
      "metadata": {
        "id": "WFCaBzBbJbwz"
      },
      "source": [
        "# Syk Inhibitor IC50 Predictor: A SMILES-based Tool for Drug Discovery\n",
        "\n",
        "This notebook provides an interactive tool for predicting the $IC_{50}$ values of potential Syk inhibitors based on their SMILES representation.\n",
        "\n",
        "Instructions:\n",
        "1. Run all cells in this notebook before using the prediction tool.\n",
        "2. Ensure all required libraries are installed.\n",
        "3. Make sure the model file `'stacking_regressor.joblib'` is in the correct path.\n",
        "4. Use the input field to enter SMILES strings and predict $IC_{50}$ values."
      ]
    },
    {
      "cell_type": "code",
      "execution_count": 3,
      "metadata": {
        "id": "UJab50kacC_Y"
      },
      "outputs": [],
      "source": [
        "# Import necessary libraries\n",
        "import pandas as pd\n",
        "import numpy as np\n",
        "import pandas as pd\n",
        "from rdkit import Chem\n",
        "from rdkit.Chem import AllChem\n",
        "from rdkit.DataStructs.cDataStructs import ConvertToNumpyArray\n",
        "from rdkit import RDLogger\n",
        "RDLogger.DisableLog('rdApp.*')\n",
        "\n",
        "from sklearn.base import BaseEstimator, TransformerMixin\n",
        "\n",
        "import ipywidgets as widgets\n",
        "from IPython.display import display, HTML\n",
        "\n",
        "import joblib"
      ]
    },
    {
      "cell_type": "code",
      "source": [
        "class pIC_predictor_smiles(BaseEstimator, TransformerMixin):\n",
        "    def __init__(self, predictor_path, radius=2, fpSize=2048):\n",
        "        self.predictor = joblib.load(predictor_path)\n",
        "        self.radius = radius\n",
        "        self.fpSize = fpSize\n",
        "\n",
        "    def fit(self, X, y=None):\n",
        "        return self\n",
        "\n",
        "    def transform(self, smiles):\n",
        "        if not isinstance(smiles, str):\n",
        "            raise ValueError(\"Input must be a single SMILES string\")\n",
        "\n",
        "        fingerprint = self.get_fingerprint(smiles)\n",
        "\n",
        "        fingerprint_df = pd.DataFrame([fingerprint],\n",
        "                                      columns=[f'fingerprint_{i}' for i in range(self.fpSize)])\n",
        "\n",
        "        pIC50 = self.predictor.predict(fingerprint_df)\n",
        "\n",
        "        return pIC50[0]\n",
        "\n",
        "    def get_fingerprint(self, smiles):\n",
        "        fp_array = np.zeros((0,), dtype=np.int8)\n",
        "        mol = Chem.MolFromSmiles(smiles)\n",
        "        fp = AllChem.GetMorganFingerprintAsBitVect(mol, 3, 2048)\n",
        "        ConvertToNumpyArray(fp, fp_array)\n",
        "        return fp_array"
      ],
      "metadata": {
        "id": "2bUCbWKUasC2"
      },
      "execution_count": 4,
      "outputs": []
    },
    {
      "cell_type": "code",
      "source": [
        "def predict_IC50(smiles):\n",
        "    bioactivity_predictor = pIC_predictor_smiles(model_path)\n",
        "    pIC50 = bioactivity_predictor.transform(smiles)\n",
        "    IC50 = 10**(-pIC50)/(10**(-9))\n",
        "\n",
        "    return IC50"
      ],
      "metadata": {
        "id": "nmDx5TRteg0r"
      },
      "execution_count": 5,
      "outputs": []
    },
    {
      "cell_type": "code",
      "source": [
        "model_path = '/content/drive/MyDrive/статья/Models/stacking_regressor.joblib'"
      ],
      "metadata": {
        "id": "UjswfY-LIT50"
      },
      "execution_count": 6,
      "outputs": []
    },
    {
      "cell_type": "code",
      "source": [
        "smiles_input = widgets.Text(\n",
        "    value='',\n",
        "    placeholder='Enter SMILES',\n",
        "    description='SMILES:',\n",
        "    disabled=False\n",
        ")\n",
        "\n",
        "predict_button = widgets.Button(description=\"Predict IC50\")\n",
        "output = widgets.Output()"
      ],
      "metadata": {
        "id": "QdjwR9uFfCqm"
      },
      "execution_count": 7,
      "outputs": []
    },
    {
      "cell_type": "code",
      "source": [
        "def on_button_clicked(b):\n",
        "    with output:\n",
        "        output.clear_output()\n",
        "        smiles = smiles_input.value\n",
        "        if smiles:\n",
        "            try:\n",
        "                IC50 = predict_IC50(smiles)\n",
        "                print(f\"Predicted IC50 value: {IC50:.2f} nM\")\n",
        "            except Exception as e:\n",
        "                print(f\"There was an error: {str(e)}\")\n",
        "        else:\n",
        "            print(\"Enter SMILES\")"
      ],
      "metadata": {
        "id": "smlOQg29hoE0"
      },
      "execution_count": 8,
      "outputs": []
    },
    {
      "cell_type": "code",
      "source": [
        "predict_button.on_click(on_button_clicked)"
      ],
      "metadata": {
        "id": "EoG_I5kYhqya"
      },
      "execution_count": 9,
      "outputs": []
    },
    {
      "cell_type": "markdown",
      "source": [
        "## Use of predictor\n",
        "\n",
        "In the field below, you can enter the SMILES of any molecule to predict its IC50 against the Syk kinase.\n",
        "\n",
        "Below are examples of known Syk inhibitors and their experimental IC50 values:\n",
        "\n",
        "\n",
        "*   Fostamatinib (R788):\n",
        "\n",
        "    `SMILES = COC1=CC(NC2=NC=C(F)C(NC3=NC4=C(OC(C)(C)C(=O)N4COP(O)(O)=O)C=C3)=N2)=CC(OC)=C1OC`\n",
        "  \n",
        "    Experimental IC50 = 41 nM\n",
        "\n",
        "*   Entospletinib (R788):\n",
        "\n",
        "    `SMILES = C1CN(CCO1)C1=CC=C(NC2=NC(=CN3C=CN=C23)C2=CC3=C(C=NN3)C=C2)C=C1`\n",
        "  \n",
        "    Experimental IC50 = 7.6 nM\n",
        "\n",
        "\n",
        "Try entering the SMILES of these or other molecules to evaluate their activity.\n",
        "\n"
      ],
      "metadata": {
        "id": "jJqa3_Cyip3T"
      }
    },
    {
      "cell_type": "code",
      "source": [
        "display(HTML(\"<h3>Prediction of IC50 by SMILES</h3>\"))\n",
        "display(smiles_input, predict_button, output)"
      ],
      "metadata": {
        "colab": {
          "base_uri": "https://localhost:8080/",
          "height": 120,
          "referenced_widgets": [
            "63c30e0901064c77abc23d21ccd44a45",
            "41f689fd1912473aa49a4bc112522cad",
            "15fde9491ce44def96d7a0fdc8661108",
            "a1caa915ad2749d7bbf3656f57173ffb",
            "130f05d75de84542916741b8558fafb9",
            "9fd7d72e84cd473daeebffda5efa03bf",
            "f029a237b67e413fb8e5067e9a4c1ded",
            "5cd9ad6c67ac484ba6608b5b5da9611e"
          ]
        },
        "id": "N_h1B7fzieYO",
        "outputId": "ad735370-7b7c-4dfc-9c8c-cfd7c988e631"
      },
      "execution_count": 10,
      "outputs": [
        {
          "output_type": "display_data",
          "data": {
            "text/plain": [
              "<IPython.core.display.HTML object>"
            ],
            "text/html": [
              "<h3>Prediction of IC50 by SMILES</h3>"
            ]
          },
          "metadata": {}
        },
        {
          "output_type": "display_data",
          "data": {
            "text/plain": [
              "Text(value='', description='SMILES:', placeholder='Enter SMILES')"
            ],
            "application/vnd.jupyter.widget-view+json": {
              "version_major": 2,
              "version_minor": 0,
              "model_id": "63c30e0901064c77abc23d21ccd44a45"
            }
          },
          "metadata": {}
        },
        {
          "output_type": "display_data",
          "data": {
            "text/plain": [
              "Button(description='Predict IC50', style=ButtonStyle())"
            ],
            "application/vnd.jupyter.widget-view+json": {
              "version_major": 2,
              "version_minor": 0,
              "model_id": "a1caa915ad2749d7bbf3656f57173ffb"
            }
          },
          "metadata": {}
        },
        {
          "output_type": "display_data",
          "data": {
            "text/plain": [
              "Output()"
            ],
            "application/vnd.jupyter.widget-view+json": {
              "version_major": 2,
              "version_minor": 0,
              "model_id": "f029a237b67e413fb8e5067e9a4c1ded"
            }
          },
          "metadata": {}
        }
      ]
    }
  ],
  "metadata": {
    "colab": {
      "provenance": []
    },
    "kernelspec": {
      "display_name": "Python 3",
      "name": "python3"
    },
    "language_info": {
      "name": "python"
    },
    "widgets": {
      "application/vnd.jupyter.widget-state+json": {
        "63c30e0901064c77abc23d21ccd44a45": {
          "model_module": "@jupyter-widgets/controls",
          "model_name": "TextModel",
          "model_module_version": "1.5.0",
          "state": {
            "_dom_classes": [],
            "_model_module": "@jupyter-widgets/controls",
            "_model_module_version": "1.5.0",
            "_model_name": "TextModel",
            "_view_count": null,
            "_view_module": "@jupyter-widgets/controls",
            "_view_module_version": "1.5.0",
            "_view_name": "TextView",
            "continuous_update": true,
            "description": "SMILES:",
            "description_tooltip": null,
            "disabled": false,
            "layout": "IPY_MODEL_41f689fd1912473aa49a4bc112522cad",
            "placeholder": "Enter SMILES",
            "style": "IPY_MODEL_15fde9491ce44def96d7a0fdc8661108",
            "value": ""
          }
        },
        "41f689fd1912473aa49a4bc112522cad": {
          "model_module": "@jupyter-widgets/base",
          "model_name": "LayoutModel",
          "model_module_version": "1.2.0",
          "state": {
            "_model_module": "@jupyter-widgets/base",
            "_model_module_version": "1.2.0",
            "_model_name": "LayoutModel",
            "_view_count": null,
            "_view_module": "@jupyter-widgets/base",
            "_view_module_version": "1.2.0",
            "_view_name": "LayoutView",
            "align_content": null,
            "align_items": null,
            "align_self": null,
            "border": null,
            "bottom": null,
            "display": null,
            "flex": null,
            "flex_flow": null,
            "grid_area": null,
            "grid_auto_columns": null,
            "grid_auto_flow": null,
            "grid_auto_rows": null,
            "grid_column": null,
            "grid_gap": null,
            "grid_row": null,
            "grid_template_areas": null,
            "grid_template_columns": null,
            "grid_template_rows": null,
            "height": null,
            "justify_content": null,
            "justify_items": null,
            "left": null,
            "margin": null,
            "max_height": null,
            "max_width": null,
            "min_height": null,
            "min_width": null,
            "object_fit": null,
            "object_position": null,
            "order": null,
            "overflow": null,
            "overflow_x": null,
            "overflow_y": null,
            "padding": null,
            "right": null,
            "top": null,
            "visibility": null,
            "width": null
          }
        },
        "15fde9491ce44def96d7a0fdc8661108": {
          "model_module": "@jupyter-widgets/controls",
          "model_name": "DescriptionStyleModel",
          "model_module_version": "1.5.0",
          "state": {
            "_model_module": "@jupyter-widgets/controls",
            "_model_module_version": "1.5.0",
            "_model_name": "DescriptionStyleModel",
            "_view_count": null,
            "_view_module": "@jupyter-widgets/base",
            "_view_module_version": "1.2.0",
            "_view_name": "StyleView",
            "description_width": ""
          }
        },
        "a1caa915ad2749d7bbf3656f57173ffb": {
          "model_module": "@jupyter-widgets/controls",
          "model_name": "ButtonModel",
          "model_module_version": "1.5.0",
          "state": {
            "_dom_classes": [],
            "_model_module": "@jupyter-widgets/controls",
            "_model_module_version": "1.5.0",
            "_model_name": "ButtonModel",
            "_view_count": null,
            "_view_module": "@jupyter-widgets/controls",
            "_view_module_version": "1.5.0",
            "_view_name": "ButtonView",
            "button_style": "",
            "description": "Predict IC50",
            "disabled": false,
            "icon": "",
            "layout": "IPY_MODEL_130f05d75de84542916741b8558fafb9",
            "style": "IPY_MODEL_9fd7d72e84cd473daeebffda5efa03bf",
            "tooltip": ""
          }
        },
        "130f05d75de84542916741b8558fafb9": {
          "model_module": "@jupyter-widgets/base",
          "model_name": "LayoutModel",
          "model_module_version": "1.2.0",
          "state": {
            "_model_module": "@jupyter-widgets/base",
            "_model_module_version": "1.2.0",
            "_model_name": "LayoutModel",
            "_view_count": null,
            "_view_module": "@jupyter-widgets/base",
            "_view_module_version": "1.2.0",
            "_view_name": "LayoutView",
            "align_content": null,
            "align_items": null,
            "align_self": null,
            "border": null,
            "bottom": null,
            "display": null,
            "flex": null,
            "flex_flow": null,
            "grid_area": null,
            "grid_auto_columns": null,
            "grid_auto_flow": null,
            "grid_auto_rows": null,
            "grid_column": null,
            "grid_gap": null,
            "grid_row": null,
            "grid_template_areas": null,
            "grid_template_columns": null,
            "grid_template_rows": null,
            "height": null,
            "justify_content": null,
            "justify_items": null,
            "left": null,
            "margin": null,
            "max_height": null,
            "max_width": null,
            "min_height": null,
            "min_width": null,
            "object_fit": null,
            "object_position": null,
            "order": null,
            "overflow": null,
            "overflow_x": null,
            "overflow_y": null,
            "padding": null,
            "right": null,
            "top": null,
            "visibility": null,
            "width": null
          }
        },
        "9fd7d72e84cd473daeebffda5efa03bf": {
          "model_module": "@jupyter-widgets/controls",
          "model_name": "ButtonStyleModel",
          "model_module_version": "1.5.0",
          "state": {
            "_model_module": "@jupyter-widgets/controls",
            "_model_module_version": "1.5.0",
            "_model_name": "ButtonStyleModel",
            "_view_count": null,
            "_view_module": "@jupyter-widgets/base",
            "_view_module_version": "1.2.0",
            "_view_name": "StyleView",
            "button_color": null,
            "font_weight": ""
          }
        },
        "f029a237b67e413fb8e5067e9a4c1ded": {
          "model_module": "@jupyter-widgets/output",
          "model_name": "OutputModel",
          "model_module_version": "1.0.0",
          "state": {
            "_dom_classes": [],
            "_model_module": "@jupyter-widgets/output",
            "_model_module_version": "1.0.0",
            "_model_name": "OutputModel",
            "_view_count": null,
            "_view_module": "@jupyter-widgets/output",
            "_view_module_version": "1.0.0",
            "_view_name": "OutputView",
            "layout": "IPY_MODEL_5cd9ad6c67ac484ba6608b5b5da9611e",
            "msg_id": "",
            "outputs": []
          }
        },
        "5cd9ad6c67ac484ba6608b5b5da9611e": {
          "model_module": "@jupyter-widgets/base",
          "model_name": "LayoutModel",
          "model_module_version": "1.2.0",
          "state": {
            "_model_module": "@jupyter-widgets/base",
            "_model_module_version": "1.2.0",
            "_model_name": "LayoutModel",
            "_view_count": null,
            "_view_module": "@jupyter-widgets/base",
            "_view_module_version": "1.2.0",
            "_view_name": "LayoutView",
            "align_content": null,
            "align_items": null,
            "align_self": null,
            "border": null,
            "bottom": null,
            "display": null,
            "flex": null,
            "flex_flow": null,
            "grid_area": null,
            "grid_auto_columns": null,
            "grid_auto_flow": null,
            "grid_auto_rows": null,
            "grid_column": null,
            "grid_gap": null,
            "grid_row": null,
            "grid_template_areas": null,
            "grid_template_columns": null,
            "grid_template_rows": null,
            "height": null,
            "justify_content": null,
            "justify_items": null,
            "left": null,
            "margin": null,
            "max_height": null,
            "max_width": null,
            "min_height": null,
            "min_width": null,
            "object_fit": null,
            "object_position": null,
            "order": null,
            "overflow": null,
            "overflow_x": null,
            "overflow_y": null,
            "padding": null,
            "right": null,
            "top": null,
            "visibility": null,
            "width": null
          }
        }
      }
    }
  },
  "nbformat": 4,
  "nbformat_minor": 0
}